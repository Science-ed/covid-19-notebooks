{
 "cells": [
  {
   "cell_type": "code",
   "execution_count": null,
   "metadata": {},
   "outputs": [],
   "source": [
    "%load_ext autoreload\n",
    "%autoreload 2\n",
    "\n",
    "%matplotlib inline"
   ]
  },
  {
   "cell_type": "code",
   "execution_count": null,
   "metadata": {},
   "outputs": [],
   "source": [
    "import itertools\n",
    "import sys\n",
    "sys.path.insert(0, '..')\n",
    "import warnings\n",
    "warnings.filterwarnings('ignore')\n",
    "\n",
    "import matplotlib.pyplot as plt\n",
    "plt.rcParams['figure.figsize'] = (14, 8)\n",
    "plt.rcParams['font.size'] = 16\n",
    "import numpy as np\n",
    "import pandas as pd\n",
    "import requests\n",
    "import seaborn as sns\n",
    "sns.set_style('whitegrid')\n",
    "\n",
    "import covid19"
   ]
  },
  {
   "cell_type": "markdown",
   "metadata": {},
   "source": [
    "## data"
   ]
  },
  {
   "cell_type": "code",
   "execution_count": null,
   "metadata": {},
   "outputs": [],
   "source": [
    "date_italy_regions_path = 'dpc-covid19-ita-regioni.csv'\n",
    "# date_italy_regions_path = covid19.data.download('regioni')\n"
   ]
  },
  {
   "cell_type": "code",
   "execution_count": null,
   "metadata": {},
   "outputs": [],
   "source": [
    "data_italy_regions = pd.read_csv(date_italy_regions_path, parse_dates=['data'], index_col=['data'])\n",
    "data_italy_regions['totale_terapia_intensiva'] = data_italy_regions['terapia_intensiva'] + data_italy_regions['deceduti']\n",
    "data_italy_regions['totale_ricoverati'] = data_italy_regions['ricoverati_con_sintomi'] + data_italy_regions['totale_terapia_intensiva']\n",
    "\n",
    "data_italy_regions.index = data_italy_regions.index.normalize()\n",
    "\n",
    "data_italy_regions.tail()"
   ]
  },
  {
   "cell_type": "code",
   "execution_count": null,
   "metadata": {},
   "outputs": [],
   "source": [
    "regions = data_italy_regions['denominazione_regione'].unique().tolist()\n",
    "print(regions)"
   ]
  },
  {
   "cell_type": "markdown",
   "metadata": {},
   "source": [
    "## situation report"
   ]
  },
  {
   "cell_type": "code",
   "execution_count": null,
   "metadata": {},
   "outputs": [],
   "source": [
    "DAY = np.timedelta64(24 * 60 * 60,'s')\n",
    "\n",
    "START_FIT = None\n",
    "CHANGE_FIT_1 = np.datetime64('2020-03-06')\n",
    "STOP_FIT = None\n",
    "\n",
    "EXTRAPOLTATE = ('2020-02-24', '2020-03-12')\n",
    "\n",
    "REGIONS_FIT_PARAMS = {\n",
    "    'Abbruzzo': {},\n",
    "    'Basilicata': {},\n",
    "    'Campania': {\n",
    "        'exponential_fits': [(None, None)]\n",
    "    },\n",
    "    'Calabria': {},\n",
    "    'Emilia Romagna': {\n",
    "        'exponential_fits': [(None, '2020-03-01'), ('2020-03-02', '2020-03-05'), ('2020-03-06', None)]\n",
    "    },\n",
    "    'Friuli Venezia Giulia': {},\n",
    "    'Lazio':  {}, #{'start': np.datetime64('2020-03-03')},\n",
    "    'Liguria': {},\n",
    "    'Lombardia': {},\n",
    "    'Marche': {\n",
    "        'exponential_fits': [(None, '2020-03-05'), ('2020-03-06', None)]\n",
    "    },\n",
    "    'Molise': {},\n",
    "    'Piemonte': {\n",
    "        'exponential_fits': [(None, '2020-03-08'), ('2020-03-08', None)]\n",
    "    },\n",
    "    'Puglia': {},\n",
    "    'Sardegna': {},\n",
    "    'Sicilia': {},\n",
    "    'Toscana': {\n",
    "        'exponential_fits': [(None, '2020-03-08'), ('2020-03-08', None)]\n",
    "    },\n",
    "    'Umbria': {},\n",
    "    \"Valle d'Aosta\": {},\n",
    "    'Veneto': {},\n",
    "}\n",
    "    \n",
    "DELAY = 12 * DAY\n",
    "PALETTE = itertools.cycle(sns.color_palette())"
   ]
  },
  {
   "cell_type": "code",
   "execution_count": null,
   "metadata": {
    "scrolled": false
   },
   "outputs": [],
   "source": [
    "fits = {}\n",
    "for region, params in REGIONS_FIT_PARAMS.items():\n",
    "    for kind in ['totale_ricoverati']:\n",
    "        exponential_fits = params.get('exponential_fits', [(START_FIT, CHANGE_FIT_1), (CHANGE_FIT_1 + DAY, STOP_FIT)])\n",
    "        fits[region, kind] = []\n",
    "        for start, stop in exponential_fits:\n",
    "            try:\n",
    "                select = (data_italy_regions['denominazione_regione'] == region) & (data_italy_regions[kind] >= 8)\n",
    "                fits[region, kind] += [covid19.fit.ExponentialFit.from_frame(kind, data_italy_regions[select], start=start, stop=stop)]\n",
    "            except:\n",
    "                print('skipping:', region, start, stop)"
   ]
  },
  {
   "cell_type": "code",
   "execution_count": null,
   "metadata": {
    "scrolled": false
   },
   "outputs": [],
   "source": [
    "for region, color in zip(REGIONS_FIT_PARAMS, PALETTE):\n",
    "    for kind in ['totale_ricoverati']:\n",
    "        if len(fits[region, kind]) == 0:\n",
    "            print('No data for', region)\n",
    "            continue\n",
    "        _, ax = plt.subplots(subplot_kw={'yscale': 'log', 'ylim': (0.5, 10000)})\n",
    "        select = (data_italy_regions['denominazione_regione'] == region)\n",
    "        try:\n",
    "            for fit in fits[region, kind]:\n",
    "                covid19.plot.plot_fit(ax, fit, label=region, extrapolate=EXTRAPOLTATE, color=color)\n",
    "            covid19.plot.plot_data(ax, data_italy_regions[select][kind], label=region, color=color, date_interval=5)\n",
    "            ax.set_title(region)\n",
    "        except:\n",
    "            pass\n",
    "\n",
    "#_ = ax.set(title=r'COVID-19 \"severe\" cases in Italy. Fit is $f(t) = 2 ^ \\frac{t - t_0}{T_d}$, with $T_d$ doubling time and $t_0$ reference date')\n"
   ]
  },
  {
   "cell_type": "code",
   "execution_count": null,
   "metadata": {},
   "outputs": [],
   "source": []
  }
 ],
 "metadata": {
  "kernelspec": {
   "display_name": "Python 3",
   "language": "python",
   "name": "python3"
  },
  "language_info": {
   "codemirror_mode": {
    "name": "ipython",
    "version": 3
   },
   "file_extension": ".py",
   "mimetype": "text/x-python",
   "name": "python",
   "nbconvert_exporter": "python",
   "pygments_lexer": "ipython3",
   "version": "3.7.6"
  }
 },
 "nbformat": 4,
 "nbformat_minor": 4
}
