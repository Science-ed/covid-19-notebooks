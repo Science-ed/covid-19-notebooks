{
 "cells": [
  {
   "cell_type": "code",
   "execution_count": 1,
   "metadata": {},
   "outputs": [],
   "source": [
    "%load_ext autoreload\n",
    "%autoreload 2\n",
    "\n",
    "%matplotlib inline"
   ]
  },
  {
   "cell_type": "code",
   "execution_count": 2,
   "metadata": {},
   "outputs": [],
   "source": [
    "import itertools\n",
    "import sys\n",
    "sys.path.insert(0, '..')\n",
    "import warnings\n",
    "warnings.filterwarnings('ignore')\n",
    "\n",
    "import matplotlib.pyplot as plt\n",
    "plt.rcParams['figure.figsize'] = (14, 8)\n",
    "plt.rcParams['font.size'] = 16\n",
    "import numpy as np\n",
    "import pandas as pd\n",
    "import requests\n",
    "import seaborn as sns\n",
    "sns.set_style('whitegrid')\n",
    "\n",
    "import covid19"
   ]
  },
  {
   "cell_type": "markdown",
   "metadata": {},
   "source": [
    "## data"
   ]
  },
  {
   "cell_type": "code",
   "execution_count": 3,
   "metadata": {},
   "outputs": [],
   "source": [
    "date_italy_regions_path = 'dpc-covid19-ita-regioni.csv'\n",
    "# date_italy_regions_path = covid19.data.download('regioni')\n"
   ]
  },
  {
   "cell_type": "code",
   "execution_count": 4,
   "metadata": {},
   "outputs": [
    {
     "data": {
      "text/html": [
       "<div>\n",
       "<style scoped>\n",
       "    .dataframe tbody tr th:only-of-type {\n",
       "        vertical-align: middle;\n",
       "    }\n",
       "\n",
       "    .dataframe tbody tr th {\n",
       "        vertical-align: top;\n",
       "    }\n",
       "\n",
       "    .dataframe thead th {\n",
       "        text-align: right;\n",
       "    }\n",
       "</style>\n",
       "<table border=\"1\" class=\"dataframe\">\n",
       "  <thead>\n",
       "    <tr style=\"text-align: right;\">\n",
       "      <th></th>\n",
       "      <th>denominazione_regione</th>\n",
       "      <th>totale_ricoverati</th>\n",
       "    </tr>\n",
       "    <tr>\n",
       "      <th>data</th>\n",
       "      <th></th>\n",
       "      <th></th>\n",
       "    </tr>\n",
       "  </thead>\n",
       "  <tbody>\n",
       "    <tr>\n",
       "      <th>2020-03-11</th>\n",
       "      <td>Lombardia</td>\n",
       "      <td>5029</td>\n",
       "    </tr>\n",
       "    <tr>\n",
       "      <th>2020-03-11</th>\n",
       "      <td>Emilia Romagna</td>\n",
       "      <td>962</td>\n",
       "    </tr>\n",
       "    <tr>\n",
       "      <th>2020-03-11</th>\n",
       "      <td>Piemonte</td>\n",
       "      <td>415</td>\n",
       "    </tr>\n",
       "    <tr>\n",
       "      <th>2020-03-11</th>\n",
       "      <td>Veneto</td>\n",
       "      <td>359</td>\n",
       "    </tr>\n",
       "    <tr>\n",
       "      <th>2020-03-11</th>\n",
       "      <td>Marche</td>\n",
       "      <td>296</td>\n",
       "    </tr>\n",
       "    <tr>\n",
       "      <th>2020-03-11</th>\n",
       "      <td>Toscana</td>\n",
       "      <td>142</td>\n",
       "    </tr>\n",
       "    <tr>\n",
       "      <th>2020-03-11</th>\n",
       "      <td>Liguria</td>\n",
       "      <td>116</td>\n",
       "    </tr>\n",
       "    <tr>\n",
       "      <th>2020-03-11</th>\n",
       "      <td>Lazio</td>\n",
       "      <td>91</td>\n",
       "    </tr>\n",
       "    <tr>\n",
       "      <th>2020-03-11</th>\n",
       "      <td>Campania</td>\n",
       "      <td>68</td>\n",
       "    </tr>\n",
       "    <tr>\n",
       "      <th>2020-03-11</th>\n",
       "      <td>Puglia</td>\n",
       "      <td>47</td>\n",
       "    </tr>\n",
       "    <tr>\n",
       "      <th>2020-03-11</th>\n",
       "      <td>P.A. Trento</td>\n",
       "      <td>32</td>\n",
       "    </tr>\n",
       "    <tr>\n",
       "      <th>2020-03-11</th>\n",
       "      <td>Friuli Venezia Giulia</td>\n",
       "      <td>27</td>\n",
       "    </tr>\n",
       "    <tr>\n",
       "      <th>2020-03-11</th>\n",
       "      <td>Abruzzo</td>\n",
       "      <td>27</td>\n",
       "    </tr>\n",
       "    <tr>\n",
       "      <th>2020-03-11</th>\n",
       "      <td>Sicilia</td>\n",
       "      <td>24</td>\n",
       "    </tr>\n",
       "    <tr>\n",
       "      <th>2020-03-11</th>\n",
       "      <td>Calabria</td>\n",
       "      <td>12</td>\n",
       "    </tr>\n",
       "  </tbody>\n",
       "</table>\n",
       "</div>"
      ],
      "text/plain": [
       "            denominazione_regione  totale_ricoverati\n",
       "data                                                \n",
       "2020-03-11              Lombardia               5029\n",
       "2020-03-11         Emilia Romagna                962\n",
       "2020-03-11               Piemonte                415\n",
       "2020-03-11                 Veneto                359\n",
       "2020-03-11                 Marche                296\n",
       "2020-03-11                Toscana                142\n",
       "2020-03-11                Liguria                116\n",
       "2020-03-11                  Lazio                 91\n",
       "2020-03-11               Campania                 68\n",
       "2020-03-11                 Puglia                 47\n",
       "2020-03-11            P.A. Trento                 32\n",
       "2020-03-11  Friuli Venezia Giulia                 27\n",
       "2020-03-11                Abruzzo                 27\n",
       "2020-03-11                Sicilia                 24\n",
       "2020-03-11               Calabria                 12"
      ]
     },
     "execution_count": 4,
     "metadata": {},
     "output_type": "execute_result"
    }
   ],
   "source": [
    "data_italy_regions = pd.read_csv(date_italy_regions_path, parse_dates=['data'], index_col=['data'])\n",
    "data_italy_regions['totale_terapia_intensiva'] = data_italy_regions['terapia_intensiva'] + data_italy_regions['deceduti']\n",
    "data_italy_regions['totale_ricoverati'] = data_italy_regions['ricoverati_con_sintomi'] + data_italy_regions['totale_terapia_intensiva']\n",
    "\n",
    "data_italy_regions.index = data_italy_regions.index.normalize()\n",
    "\n",
    "data_italy_regions.loc[data_italy_regions.index.max()].sort_values('totale_ricoverati', ascending=False)[['denominazione_regione', 'totale_ricoverati']].head(15)\n"
   ]
  },
  {
   "cell_type": "code",
   "execution_count": 5,
   "metadata": {},
   "outputs": [
    {
     "name": "stdout",
     "output_type": "stream",
     "text": [
      "['Abruzzo', 'Basilicata', 'P.A. Bolzano', 'Calabria', 'Campania', 'Emilia Romagna', 'Friuli Venezia Giulia', 'Lazio', 'Liguria', 'Lombardia', 'Marche', 'Molise', 'Piemonte', 'Puglia', 'Sardegna', 'Sicilia', 'Toscana', 'P.A. Trento', 'Umbria', \"Valle d'Aosta\", 'Veneto']\n"
     ]
    }
   ],
   "source": [
    "regions = data_italy_regions['denominazione_regione'].unique().tolist()\n",
    "print(regions)"
   ]
  },
  {
   "cell_type": "markdown",
   "metadata": {},
   "source": [
    "## situation report"
   ]
  },
  {
   "cell_type": "code",
   "execution_count": 6,
   "metadata": {},
   "outputs": [],
   "source": [
    "DAY = np.timedelta64(24 * 60 * 60,'s')\n",
    "\n",
    "START_FIT = None\n",
    "CHANGE_FIT_1 = np.datetime64('2020-03-06')\n",
    "STOP_FIT = None\n",
    "\n",
    "EXTRAPOLTATE = ('2020-02-23', '2020-03-12')\n",
    "\n",
    "REGIONS_FIT_PARAMS = {\n",
    "    'Lombardia': {},\n",
    "    'Emilia Romagna': {\n",
    "        'exponential_fits': [(None, '2020-03-01'), ('2020-03-02', '2020-03-05'), ('2020-03-06', None)]\n",
    "    },\n",
    "    'Veneto': {},\n",
    "    'Piemonte': {\n",
    "        'exponential_fits': [(None, '2020-03-08'), ('2020-03-08', None)]\n",
    "    },\n",
    "    'Marche': {\n",
    "        'exponential_fits': [(None, '2020-03-05'), ('2020-03-06', None)]\n",
    "    },\n",
    "    'Toscana': {\n",
    "        'exponential_fits': [(None, '2020-03-08'), ('2020-03-08', None)]\n",
    "    },\n",
    "    'Liguria': {\n",
    "        'exponential_fits': [('2020-03-04', None)]\n",
    "    },\n",
    "    'Lazio':  {},\n",
    "    'Campania': {\n",
    "        'exponential_fits': [(None, None)]\n",
    "    },\n",
    "    'Puglia': {},\n",
    "    'Abbruzzo': {},\n",
    "    'Basilicata': {},\n",
    "    'Calabria': {},\n",
    "    'Friuli Venezia Giulia': {},\n",
    "    'Molise': {},\n",
    "    'Sardegna': {},\n",
    "    'Sicilia': {},\n",
    "    'Umbria': {},\n",
    "    \"Valle d'Aosta\": {},\n",
    "}\n",
    "    \n",
    "DELAY = 12 * DAY\n",
    "PALETTE = itertools.cycle(sns.color_palette())"
   ]
  },
  {
   "cell_type": "code",
   "execution_count": 7,
   "metadata": {
    "scrolled": false
   },
   "outputs": [
    {
     "name": "stdout",
     "output_type": "stream",
     "text": [
      "skipping: Puglia None 2020-03-06\n",
      "skipping: Abbruzzo None 2020-03-06\n",
      "skipping: Abbruzzo 2020-03-07T00:00:00 None\n",
      "skipping: Basilicata None 2020-03-06\n",
      "skipping: Basilicata 2020-03-07T00:00:00 None\n",
      "skipping: Calabria None 2020-03-06\n",
      "skipping: Friuli Venezia Giulia None 2020-03-06\n",
      "skipping: Molise None 2020-03-06\n",
      "skipping: Molise 2020-03-07T00:00:00 None\n",
      "skipping: Sardegna None 2020-03-06\n",
      "skipping: Sicilia None 2020-03-06\n",
      "skipping: Umbria None 2020-03-06\n",
      "skipping: Valle d'Aosta None 2020-03-06\n",
      "skipping: Valle d'Aosta 2020-03-07T00:00:00 None\n"
     ]
    }
   ],
   "source": [
    "fits = {}\n",
    "for region, params in REGIONS_FIT_PARAMS.items():\n",
    "    for kind in ['totale_ricoverati']:\n",
    "        exponential_fits = params.get('exponential_fits', [(START_FIT, CHANGE_FIT_1), (CHANGE_FIT_1 + DAY, STOP_FIT)])\n",
    "        fits[region, kind] = []\n",
    "        for start, stop in exponential_fits:\n",
    "            try:\n",
    "                select = (data_italy_regions['denominazione_regione'] == region) & (data_italy_regions[kind] >= 8)\n",
    "                fits[region, kind] += [covid19.fit.ExponentialFit.from_frame(kind, data_italy_regions[select], start=start, stop=stop)]\n",
    "            except:\n",
    "                print('skipping:', region, start, stop)"
   ]
  },
  {
   "cell_type": "code",
   "execution_count": null,
   "metadata": {
    "scrolled": false
   },
   "outputs": [],
   "source": [
    "for region, color in zip(REGIONS_FIT_PARAMS, PALETTE):\n",
    "    for kind in ['totale_ricoverati']:\n",
    "        if len(fits[region, kind]) == 0:\n",
    "            print('No data for', region)\n",
    "            continue\n",
    "        _, ax = plt.subplots(subplot_kw={'yscale': 'log', 'ylim': (0.5, 10000)})\n",
    "        select = (data_italy_regions['denominazione_regione'] == region)\n",
    "        try:\n",
    "            for fit in fits[region, kind]:\n",
    "                covid19.plot.plot_fit(ax, fit, label=region, extrapolate=EXTRAPOLTATE, color=color)\n",
    "            covid19.plot.plot_data(ax, data_italy_regions[select][kind], label=region, color=color, date_interval=3)\n",
    "            ax.set_title(region)\n",
    "        except:\n",
    "            pass\n",
    "\n",
    "#_ = ax.set(title=r'COVID-19 \"severe\" cases in Italy. Fit is $f(t) = 2 ^ \\frac{t - t_0}{T_d}$, with $T_d$ doubling time and $t_0$ reference date')\n"
   ]
  },
  {
   "cell_type": "markdown",
   "metadata": {},
   "source": [
    "## Estimate of the initial / uncontined doubling time"
   ]
  },
  {
   "cell_type": "code",
   "execution_count": null,
   "metadata": {},
   "outputs": [],
   "source": [
    "for key, value in list(fits.items())[:10]:\n",
    "    if len(value):\n",
    "        print(f'{key[0]} {\" \" * (15 - len(key[0]))} {str(value[0])}')"
   ]
  },
  {
   "cell_type": "code",
   "execution_count": null,
   "metadata": {},
   "outputs": [],
   "source": []
  }
 ],
 "metadata": {
  "kernelspec": {
   "display_name": "Python 3",
   "language": "python",
   "name": "python3"
  },
  "language_info": {
   "codemirror_mode": {
    "name": "ipython",
    "version": 3
   },
   "file_extension": ".py",
   "mimetype": "text/x-python",
   "name": "python",
   "nbconvert_exporter": "python",
   "pygments_lexer": "ipython3",
   "version": "3.7.6"
  }
 },
 "nbformat": 4,
 "nbformat_minor": 4
}
