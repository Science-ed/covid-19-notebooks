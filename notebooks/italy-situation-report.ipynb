{
 "cells": [
  {
   "cell_type": "code",
   "execution_count": 1,
   "metadata": {},
   "outputs": [],
   "source": [
    "%load_ext autoreload\n",
    "%autoreload 2\n",
    "\n",
    "%matplotlib inline"
   ]
  },
  {
   "cell_type": "code",
   "execution_count": 2,
   "metadata": {},
   "outputs": [],
   "source": [
    "import sys\n",
    "sys.path.insert(0, '..')\n",
    "\n",
    "import matplotlib.pyplot as plt\n",
    "plt.rcParams['figure.figsize'] = (16, 8)\n",
    "plt.rcParams['font.size'] = 16\n",
    "import pandas as pd\n",
    "import seaborn as sns\n",
    "sns.set_style('whitegrid')\n",
    "\n",
    "import covid19"
   ]
  },
  {
   "cell_type": "code",
   "execution_count": 3,
   "metadata": {},
   "outputs": [
    {
     "data": {
      "text/html": [
       "<div>\n",
       "<style scoped>\n",
       "    .dataframe tbody tr th:only-of-type {\n",
       "        vertical-align: middle;\n",
       "    }\n",
       "\n",
       "    .dataframe tbody tr th {\n",
       "        vertical-align: top;\n",
       "    }\n",
       "\n",
       "    .dataframe thead th {\n",
       "        text-align: right;\n",
       "    }\n",
       "</style>\n",
       "<table border=\"1\" class=\"dataframe\">\n",
       "  <thead>\n",
       "    <tr style=\"text-align: right;\">\n",
       "      <th></th>\n",
       "      <th>cases</th>\n",
       "      <th>deaths</th>\n",
       "      <th>healed</th>\n",
       "      <th>critical</th>\n",
       "      <th>severe</th>\n",
       "      <th>total_cases</th>\n",
       "    </tr>\n",
       "    <tr>\n",
       "      <th>date</th>\n",
       "      <th></th>\n",
       "      <th></th>\n",
       "      <th></th>\n",
       "      <th></th>\n",
       "      <th></th>\n",
       "      <th></th>\n",
       "    </tr>\n",
       "  </thead>\n",
       "  <tbody>\n",
       "    <tr>\n",
       "      <th>2020-02-21 16:00:00</th>\n",
       "      <td>19</td>\n",
       "      <td>1</td>\n",
       "      <td>0</td>\n",
       "      <td>0</td>\n",
       "      <td>0</td>\n",
       "      <td>20</td>\n",
       "    </tr>\n",
       "    <tr>\n",
       "      <th>2020-02-22 16:00:00</th>\n",
       "      <td>74</td>\n",
       "      <td>2</td>\n",
       "      <td>0</td>\n",
       "      <td>0</td>\n",
       "      <td>0</td>\n",
       "      <td>76</td>\n",
       "    </tr>\n",
       "    <tr>\n",
       "      <th>2020-02-23 16:00:00</th>\n",
       "      <td>149</td>\n",
       "      <td>3</td>\n",
       "      <td>0</td>\n",
       "      <td>0</td>\n",
       "      <td>0</td>\n",
       "      <td>152</td>\n",
       "    </tr>\n",
       "    <tr>\n",
       "      <th>2020-02-24 16:00:00</th>\n",
       "      <td>222</td>\n",
       "      <td>7</td>\n",
       "      <td>0</td>\n",
       "      <td>27</td>\n",
       "      <td>101</td>\n",
       "      <td>229</td>\n",
       "    </tr>\n",
       "    <tr>\n",
       "      <th>2020-02-25 16:00:00</th>\n",
       "      <td>311</td>\n",
       "      <td>10</td>\n",
       "      <td>1</td>\n",
       "      <td>35</td>\n",
       "      <td>114</td>\n",
       "      <td>322</td>\n",
       "    </tr>\n",
       "    <tr>\n",
       "      <th>2020-02-26 16:00:00</th>\n",
       "      <td>385</td>\n",
       "      <td>12</td>\n",
       "      <td>3</td>\n",
       "      <td>36</td>\n",
       "      <td>128</td>\n",
       "      <td>400</td>\n",
       "    </tr>\n",
       "    <tr>\n",
       "      <th>2020-02-27 16:00:00</th>\n",
       "      <td>588</td>\n",
       "      <td>17</td>\n",
       "      <td>45</td>\n",
       "      <td>56</td>\n",
       "      <td>248</td>\n",
       "      <td>650</td>\n",
       "    </tr>\n",
       "    <tr>\n",
       "      <th>2020-02-28 16:00:00</th>\n",
       "      <td>821</td>\n",
       "      <td>21</td>\n",
       "      <td>46</td>\n",
       "      <td>64</td>\n",
       "      <td>345</td>\n",
       "      <td>888</td>\n",
       "    </tr>\n",
       "    <tr>\n",
       "      <th>2020-02-29 16:00:00</th>\n",
       "      <td>1049</td>\n",
       "      <td>29</td>\n",
       "      <td>50</td>\n",
       "      <td>105</td>\n",
       "      <td>401</td>\n",
       "      <td>1128</td>\n",
       "    </tr>\n",
       "    <tr>\n",
       "      <th>2020-03-01 16:00:00</th>\n",
       "      <td>1577</td>\n",
       "      <td>34</td>\n",
       "      <td>83</td>\n",
       "      <td>140</td>\n",
       "      <td>639</td>\n",
       "      <td>1694</td>\n",
       "    </tr>\n",
       "    <tr>\n",
       "      <th>2020-03-02 16:00:00</th>\n",
       "      <td>1885</td>\n",
       "      <td>52</td>\n",
       "      <td>149</td>\n",
       "      <td>166</td>\n",
       "      <td>742</td>\n",
       "      <td>2086</td>\n",
       "    </tr>\n",
       "    <tr>\n",
       "      <th>2020-03-03 16:00:00</th>\n",
       "      <td>2263</td>\n",
       "      <td>79</td>\n",
       "      <td>160</td>\n",
       "      <td>229</td>\n",
       "      <td>1034</td>\n",
       "      <td>2502</td>\n",
       "    </tr>\n",
       "    <tr>\n",
       "      <th>2020-03-04 16:00:00</th>\n",
       "      <td>2703</td>\n",
       "      <td>107</td>\n",
       "      <td>217</td>\n",
       "      <td>295</td>\n",
       "      <td>1344</td>\n",
       "      <td>3027</td>\n",
       "    </tr>\n",
       "    <tr>\n",
       "      <th>2020-03-05 16:00:00</th>\n",
       "      <td>3296</td>\n",
       "      <td>148</td>\n",
       "      <td>414</td>\n",
       "      <td>351</td>\n",
       "      <td>1790</td>\n",
       "      <td>3858</td>\n",
       "    </tr>\n",
       "    <tr>\n",
       "      <th>2020-03-06 16:00:00</th>\n",
       "      <td>3916</td>\n",
       "      <td>197</td>\n",
       "      <td>523</td>\n",
       "      <td>462</td>\n",
       "      <td>2394</td>\n",
       "      <td>4636</td>\n",
       "    </tr>\n",
       "  </tbody>\n",
       "</table>\n",
       "</div>"
      ],
      "text/plain": [
       "                     cases  deaths  healed  critical  severe  total_cases\n",
       "date                                                                     \n",
       "2020-02-21 16:00:00     19       1       0         0       0           20\n",
       "2020-02-22 16:00:00     74       2       0         0       0           76\n",
       "2020-02-23 16:00:00    149       3       0         0       0          152\n",
       "2020-02-24 16:00:00    222       7       0        27     101          229\n",
       "2020-02-25 16:00:00    311      10       1        35     114          322\n",
       "2020-02-26 16:00:00    385      12       3        36     128          400\n",
       "2020-02-27 16:00:00    588      17      45        56     248          650\n",
       "2020-02-28 16:00:00    821      21      46        64     345          888\n",
       "2020-02-29 16:00:00   1049      29      50       105     401         1128\n",
       "2020-03-01 16:00:00   1577      34      83       140     639         1694\n",
       "2020-03-02 16:00:00   1885      52     149       166     742         2086\n",
       "2020-03-03 16:00:00   2263      79     160       229    1034         2502\n",
       "2020-03-04 16:00:00   2703     107     217       295    1344         3027\n",
       "2020-03-05 16:00:00   3296     148     414       351    1790         3858\n",
       "2020-03-06 16:00:00   3916     197     523       462    2394         4636"
      ]
     },
     "execution_count": 3,
     "metadata": {},
     "output_type": "execute_result"
    }
   ],
   "source": [
    "data = pd.read_csv('covid-19-it-protezione-civile.csv', parse_dates=['date'], index_col=['date'])\n",
    "data['total_cases'] = data['cases'] + data['deaths'] + data['healed']\n",
    "\n",
    "data"
   ]
  },
  {
   "cell_type": "code",
   "execution_count": 4,
   "metadata": {
    "scrolled": false
   },
   "outputs": [
    {
     "data": {
      "image/png": "[encoded data removed]",
      "text/plain": [
       "<Figure size 1152x576 with 1 Axes>"
      ]
     },
     "metadata": {},
     "output_type": "display_data"
    }
   ],
   "source": [
    "import numpy as np\n",
    "\n",
    "ax = sns.scatterplot(data=data)\n",
    "_ = ax.set(yscale='log')\n",
    "_ = ax.set(ylim=(1, 10000))\n",
    "_ = ax.set(xlim=(np.datetime64('2020-02-20'), np.datetime64('2020-03-06')))\n"
   ]
  },
  {
   "cell_type": "code",
   "execution_count": 16,
   "metadata": {},
   "outputs": [
    {
     "name": "stdout",
     "output_type": "stream",
     "text": [
      "t_0='2020-02-18T10:12:59', dt_days=2.28, start_fit='2020-02-24', stop_fit=None\n"
     ]
    },
    {
     "data": {
      "text/plain": [
       "ExponentialFit(t_0=numpy.datetime64('2020-02-18T10:12:59'), dt=numpy.timedelta64(197240,'s'), start_fit='2020-02-24', stop_fit=None)"
      ]
     },
     "execution_count": 16,
     "metadata": {},
     "output_type": "execute_result"
    }
   ],
   "source": [
    "deaths_fit = covid19.fit.ExponentialFit.from_frame('deaths', data, start_fit='2020-02-24')\n",
    "print(deaths_fit)\n",
    "deaths_fit"
   ]
  },
  {
   "cell_type": "code",
   "execution_count": 14,
   "metadata": {},
   "outputs": [
    {
     "data": {
      "text/plain": [
       "array([  1.97472505,   2.67529283,   3.62439913,   4.91021725,\n",
       "         6.65220155,   9.01218483,  12.20941289,  16.54091278,\n",
       "        22.40908699,  30.35909724,  41.12951081,  55.72091443,\n",
       "        75.48887025, 102.26984947, 138.55184315, 187.70550012])"
      ]
     },
     "execution_count": 14,
     "metadata": {},
     "output_type": "execute_result"
    }
   ],
   "source": [
    "deaths_fit.predict(pd.date_range('2020-02-20T16:00', '2020-03-07').values)"
   ]
  },
  {
   "cell_type": "code",
   "execution_count": null,
   "metadata": {},
   "outputs": [],
   "source": []
  }
 ],
 "metadata": {
  "kernelspec": {
   "display_name": "Python 3",
   "language": "python",
   "name": "python3"
  },
  "language_info": {
   "codemirror_mode": {
    "name": "ipython",
    "version": 3
   },
   "file_extension": ".py",
   "mimetype": "text/x-python",
   "name": "python",
   "nbconvert_exporter": "python",
   "pygments_lexer": "ipython3",
   "version": "3.7.6"
  }
 },
 "nbformat": 4,
 "nbformat_minor": 4
}
